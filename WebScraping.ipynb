{
 "cells": [
  {
   "cell_type": "markdown",
   "metadata": {},
   "source": [
    "### 1.  Creating a new MariaDB database \"PresidentDB\" with user \"President_User\" and granting it access "
   ]
  },
  {
   "cell_type": "markdown",
   "metadata": {},
   "source": [
    "create database PresidentDB; \n",
    "grant all on PresidentDB.* to 'President_User' identified by 'President_Python'; \n",
    "flush privileges; \n",
    "quit;"
   ]
  },
  {
   "cell_type": "markdown",
   "metadata": {},
   "source": [
    "### Creating table structure to store web scraped data"
   ]
  },
  {
   "cell_type": "markdown",
   "metadata": {},
   "source": [
    "mysql -u President_User -p PresidentDB;\n",
    "Enter password: \n",
    "\n",
    "create table PresidentsInfo(\n",
    "     Name varchar(200) ,\n",
    "     TOO_StrtDate varchar(100),\n",
    "     TOO_EndDate varchar(100) ,\n",
    "     Party varchar(50) ,\n",
    "     Tenure varchar(20),\n",
    "     EC_CompParty varchar(80),\n",
    "     VicePresident varchar(50),\n",
    "     Dale varchar(30),\n",
    "     PresidentName varchar(50),\n",
    "     Age varchar(30),\n",
    "     Constituency1 varchar(200),\n",
    "     Constituency2 varchar(200) );"
   ]
  },
  {
   "cell_type": "markdown",
   "metadata": {},
   "source": [
    "###  2 . Python code to scrape the wikipedia table using Pandas: "
   ]
  },
  {
   "cell_type": "code",
   "execution_count": null,
   "metadata": {},
   "outputs": [],
   "source": [
    "URL = \"https://en.wikipedia.org/wiki/Taoiseach\"\n",
    "from gazpacho import Soup,get\n",
    "import pandas as pd\n",
    "html = get(URL)\n",
    "\n",
    "soup = Soup(html)"
   ]
  },
  {
   "cell_type": "code",
   "execution_count": null,
   "metadata": {},
   "outputs": [],
   "source": [
    "df_Presidents = pd.read_html(str(soup.find('table')))[3]\n",
    "df_Presidents= df_Presidents.loc[1:,2:]\n",
    "df_Presidents"
   ]
  },
  {
   "cell_type": "markdown",
   "metadata": {},
   "source": [
    "## Data cleaning on the above created data frame . "
   ]
  },
  {
   "cell_type": "markdown",
   "metadata": {},
   "source": [
    "### Creating columns by naming them into the dataframe:"
   ]
  },
  {
   "cell_type": "code",
   "execution_count": null,
   "metadata": {},
   "outputs": [],
   "source": [
    "df_Presidents.columns=['Name','TermofOfficeStartDate','TermoffficeEndDate','Party','Tenure','Exec.CouCompParty','vp','VicePresident','Dail']"
   ]
  },
  {
   "cell_type": "code",
   "execution_count": null,
   "metadata": {},
   "outputs": [],
   "source": [
    "df_Presidents"
   ]
  },
  {
   "cell_type": "markdown",
   "metadata": {},
   "source": [
    "### Removing rows 10 and 11 as they do not contain meaningful data "
   ]
  },
  {
   "cell_type": "code",
   "execution_count": null,
   "metadata": {},
   "outputs": [],
   "source": [
    "df_Presidents = df_Presidents.loc[2:,]\n",
    "df_Presidents = df_Presidents.drop([10,11],axis = 0)\n",
    "df_Presidents"
   ]
  },
  {
   "cell_type": "markdown",
   "metadata": {},
   "source": [
    "###  Splitting the \"Name\" variable and extracting only name, age and constituency from it."
   ]
  },
  {
   "cell_type": "code",
   "execution_count": null,
   "metadata": {},
   "outputs": [],
   "source": [
    "df_Presidents[\"President_Name\"] = df_Presidents[\"Name\"].str.split(\"(\",expand = True)[0]\n",
    "df_Presidents.head(10)"
   ]
  },
  {
   "cell_type": "code",
   "execution_count": null,
   "metadata": {},
   "outputs": [],
   "source": [
    "df_Presidents[\"Age\"] = df_Presidents[\"Name\"].str.split(\"(\",expand = True)[1].str.split(\")\",expand= True)[0]\n",
    "\n",
    "\n",
    "\n"
   ]
  },
  {
   "cell_type": "markdown",
   "metadata": {},
   "source": [
    "### Splitting constituency variable into two variables constituency1 and constituency2 : "
   ]
  },
  {
   "cell_type": "code",
   "execution_count": null,
   "metadata": {},
   "outputs": [],
   "source": [
    "df_Presidents[\"Constituency\"] = df_Presidents[\"Name\"].str.split(\"(\",expand = True)[1].str.split(\")\",expand= True)[1]\n",
    "\n",
    "df_Presidents[\"Constituency1\"] = df_Presidents[\"Constituency\"].str.split(\"TD for\",expand = True)[1]\n",
    "\n",
    "df_Presidents[\"Constituency2\"] = df_Presidents[\"Constituency\"].str.split(\"TD for\",expand = True)[2]"
   ]
  },
  {
   "cell_type": "markdown",
   "metadata": {},
   "source": [
    "### Removing columns \"vp\" and \"Constituency\""
   ]
  },
  {
   "cell_type": "code",
   "execution_count": null,
   "metadata": {},
   "outputs": [],
   "source": [
    "df_Presidents = df_Presidents.drop('vp', axis = 1)\n",
    "\n",
    "df_Presidents = df_Presidents.drop('Constituency', axis = 1) \n",
    "\n",
    "\n",
    "\n",
    "df_Presidents.head(5)"
   ]
  },
  {
   "cell_type": "markdown",
   "metadata": {},
   "source": [
    "### Re - arranging the index of the dataframe "
   ]
  },
  {
   "cell_type": "code",
   "execution_count": null,
   "metadata": {},
   "outputs": [],
   "source": [
    "import numpy as np\n",
    "df_Presidents.index = np.arange(1,len(df_Presidents) + 1)\n",
    "df_Presidents"
   ]
  },
  {
   "cell_type": "markdown",
   "metadata": {},
   "source": [
    "### Cleaning TermofOfficeStartDate and TermofOfficeEndDate columns as it has unwanted text "
   ]
  },
  {
   "cell_type": "code",
   "execution_count": null,
   "metadata": {},
   "outputs": [],
   "source": [
    "df_Presidents['TermofOfficeStartDate'] = df_Presidents['TermofOfficeStartDate'].str.split('[',expand = True)[0]\n",
    "\n",
    "df_Presidents['TermoffficeEndDate'] = df_Presidents['TermoffficeEndDate'].str.split('[',expand = True)[0]\n"
   ]
  },
  {
   "cell_type": "code",
   "execution_count": null,
   "metadata": {},
   "outputs": [],
   "source": [
    "df_Presidents"
   ]
  },
  {
   "cell_type": "code",
   "execution_count": null,
   "metadata": {},
   "outputs": [],
   "source": [
    "from datetime import datetime\n",
    "\n",
    "df_Presidents = df_Presidents.replace(df_Presidents.loc[44]['TermoffficeEndDate'],datetime.now())\n",
    "\n"
   ]
  },
  {
   "cell_type": "code",
   "execution_count": null,
   "metadata": {},
   "outputs": [],
   "source": [
    "df_Presidents "
   ]
  },
  {
   "cell_type": "markdown",
   "metadata": {},
   "source": [
    "### Converting the columns TermofOfficeStartDate and TermoffficeEndDate to \"datetime\" type from datetime module."
   ]
  },
  {
   "cell_type": "code",
   "execution_count": null,
   "metadata": {},
   "outputs": [],
   "source": [
    "\n",
    "\n",
    "\n",
    "\n",
    "\n",
    "df_Presidents['TermofOfficeStartDate'] = pd.to_datetime(df_Presidents['TermofOfficeStartDate'])\n",
    "\n",
    "\n",
    "\n",
    "\n",
    "\n",
    "df_Presidents['TermoffficeEndDate'] = pd.to_datetime(df_Presidents['TermoffficeEndDate'])\n",
    "\n",
    "df_Presidents['TermoffficeEndDate'] = df_Presidents['TermoffficeEndDate'].astype(str)\n",
    "\n",
    "df_Presidents['TermoffficeEndDate'] = df_Presidents['TermoffficeEndDate'].str.split(' ', expand = True)[0]\n",
    "\n",
    "df_Presidents['TermoffficeEndDate'] \n",
    "\n",
    "df_Presidents['TermoffficeEndDate'] = pd.to_datetime(df_Presidents['TermoffficeEndDate'])\n",
    "\n",
    "df_Presidents\n"
   ]
  },
  {
   "cell_type": "markdown",
   "metadata": {},
   "source": [
    "### Configuring the connection settings to the database:"
   ]
  },
  {
   "cell_type": "code",
   "execution_count": null,
   "metadata": {},
   "outputs": [],
   "source": [
    "config = {\n",
    "    'user' : 'President_User',\n",
    "    'password' : 'President_Python',\n",
    "    'host' : '127.0.0.1',\n",
    "    'database' : 'PresidentDB'\n",
    "}"
   ]
  },
  {
   "cell_type": "code",
   "execution_count": null,
   "metadata": {},
   "outputs": [],
   "source": [
    "import DBcm"
   ]
  },
  {
   "cell_type": "markdown",
   "metadata": {},
   "source": [
    "### Using DBcm module inserting dataframe into table \"PresidentInfo\""
   ]
  },
  {
   "cell_type": "code",
   "execution_count": null,
   "metadata": {},
   "outputs": [],
   "source": [
    "with DBcm.UseDatabase(config) as Cursor:\n",
    "    SQL = \"\"\"INSERT INTO PresidentsInfo(Name,TOO_StrtDate,TOO_EndDate,Party,Tenure,EC_CompParty,VicePresident,Dale,PresidentName,Age,Constituency1,Constituency2) VALUES (%s, %s, %s, %s, %s, %s, %s, %s, %s, %s, %s, %s)\"\"\"\n",
    "    i=0\n",
    "    while i < len(df_Presidents):\n",
    "        data = [row for row in df_Presidents.iloc[i]]\n",
    "        data1 = [tuple(data)]\n",
    "        Cursor.executemany(SQL,data1)\n",
    "        i+=1\n",
    "        "
   ]
  },
  {
   "cell_type": "markdown",
   "metadata": {},
   "source": [
    "### 3. a ] List of constituencies in Ireland that have produced a President. For this we need to clean data in table for columns constituency1 and constituency 2 which have extra text like year specified in it.\n"
   ]
  },
  {
   "cell_type": "markdown",
   "metadata": {},
   "source": [
    "update PresidentsInfo set Constituency1 = ' Carlow–Kilkenny' where Constituency1 like '%1927';\n",
    "\n",
    "update PresidentsInfo set Constituency1 = ' Cork Borough' where Constituency1 like '%1969';\n",
    "\n",
    "update PresidentsInfo set Constituency2 = ' Cork Borough' where Constituency2 like '%1927'; \n",
    "\n",
    "update PresidentsInfo set Constituency2 = ' Cork City North-West' where Constituency2 like '%1969'; \n",
    "\n",
    "\n",
    "Query :\n",
    "\n",
    "select distinct Constituency1, Constituency2 from PresidentsInfo;\n",
    "\n",
    "+------------------------------+-----------------------+\n",
    "| Constituency1                | Constituency2         |\n",
    "+------------------------------+-----------------------+\n",
    "|  Carlow–Kilkenny             |  Cork Borough         |\n",
    "|  Clare                       | NULL                  |\n",
    "|  Dublin South-East           | NULL                  |\n",
    "|  Dublin South-Central        | NULL                  |\n",
    "|  Cork Borough                |  Cork City North-West |\n",
    "|  Dún Laoghaire and Rathdown  | NULL                  |\n",
    "|  Cork City                   | NULL                  |\n",
    "|  Dublin Artane               | NULL                  |\n",
    "|  Dublin North-Central        | NULL                  |\n",
    "|  Longford–Roscommon          | NULL                  |\n",
    "|  Meath                       | NULL                  |\n",
    "|  Dublin Central              | NULL                  |\n",
    "|  Laois–Offaly                | NULL                  |\n",
    "|  Mayo                        | NULL                  |\n",
    "|  Dublin West                 | NULL                  |\n",
    "+------------------------------+-----------------------+\n",
    "15 rows in set (0.000 sec)\n"
   ]
  },
  {
   "cell_type": "markdown",
   "metadata": {},
   "source": [
    "### 3 b ]  Political party that has produced most Presidents in Ireland"
   ]
  },
  {
   "cell_type": "markdown",
   "metadata": {},
   "source": [
    "Query :\n",
    "\n",
    "select Party, count(distinct PresidentName) as Presidents_Count from PresidentsInfo group by Party order by count(distinct PresidentName) desc;\n",
    "\n",
    "\n",
    "+------------------------+------------------+\n",
    "| Party                  | Presidents_Count |\n",
    "+------------------------+------------------+\n",
    "| Fianna Fáil            |                7 |\n",
    "| Fine Gael              |                6 |\n",
    "| Cumann na nGaedheal    |                1 |\n",
    "| Sinn Féin(Pro-Treaty)  |                1 |\n",
    "+------------------------+------------------+\n",
    "4 rows in set (0.001 sec)\n",
    "\n",
    "\n",
    "select Party, count(distinct PresidentName) as Presidents_Count from PresidentsInfo group by Party order by count(distinct PresidentName) desc limit 1;\n",
    "\n",
    "+--------------+------------------+\n",
    "| Party        | Presidents_Count |\n",
    "+--------------+------------------+\n",
    "| Fianna Fáil  |                7 |\n",
    "+--------------+------------------+\n",
    "1 row in set (0.001 sec)\n",
    "\n"
   ]
  },
  {
   "cell_type": "markdown",
   "metadata": {},
   "source": [
    "### 3 c ] List of Politicians who previously held the position of vice president before serving as a President."
   ]
  },
  {
   "cell_type": "markdown",
   "metadata": {},
   "source": [
    " ### Creating another dataframe which is subset of df_Presidents. Using logic of nested for loop on Presidents and vice President columns to check the condition of President who is vice president priorly. "
   ]
  },
  {
   "cell_type": "code",
   "execution_count": null,
   "metadata": {},
   "outputs": [],
   "source": [
    "df_Presidents_Subset = df_Presidents[[\"TermoffficeEndDate\",\"VicePresident\",\"President_Name\"]]\n",
    "\n",
    "df_Presidents_Subset "
   ]
  },
  {
   "cell_type": "code",
   "execution_count": null,
   "metadata": {},
   "outputs": [],
   "source": [
    "data = []\n",
    "i=0\n",
    "j=0\n",
    "bflag = False\n",
    "for i in range(0,len(df_Presidents_Subset)-1):\n",
    "    \n",
    "    for j in range(0,len(df_Presidents_Subset)-2):\n",
    "        \n",
    "        if i< len(df_Presidents_Subset) and j< len(df_Presidents_Subset):\n",
    "            \n",
    "            if df_Presidents_Subset.iloc[i][\"VicePresident\"] == df_Presidents_Subset.iloc[j+1][\"President_Name\"]:\n",
    "                \n",
    "                if data != df_Presidents_Subset.iloc[i][\"VicePresident\"]:\n",
    "                    \n",
    "                    data.append(df_Presidents_Subset.iloc[i][\"VicePresident\"])\n",
    "                    \n",
    "                    bflag = True\n",
    "                    \n",
    "                    if bflag == True:\n",
    "                        \n",
    "                        break"
   ]
  },
  {
   "cell_type": "code",
   "execution_count": null,
   "metadata": {},
   "outputs": [],
   "source": [
    "data = set(data)\n",
    "data"
   ]
  },
  {
   "cell_type": "code",
   "execution_count": null,
   "metadata": {},
   "outputs": [],
   "source": [
    "List_Presidents_VP = list(data)\n",
    "\n",
    "List_Presidents_VP "
   ]
  },
  {
   "cell_type": "markdown",
   "metadata": {},
   "source": [
    "###  3 d ] To find political party that held the office of President for longest time. To compute the duration we took the difference of startdate and enddate and then subdivided the years into months and days using arithmetic logic."
   ]
  },
  {
   "cell_type": "code",
   "execution_count": null,
   "metadata": {},
   "outputs": [],
   "source": [
    "df_Presidents_Duration = df_Presidents[[\"President_Name\",\"VicePresident\",\"Party\",\"TermofOfficeStartDate\",\"TermoffficeEndDate\"]]\n",
    "df_Presidents_Duration"
   ]
  },
  {
   "cell_type": "markdown",
   "metadata": {},
   "source": [
    "### Taking difference of Enddate and StartDate and then splitting the value to get only year value(whole without decimal)."
   ]
  },
  {
   "cell_type": "code",
   "execution_count": null,
   "metadata": {},
   "outputs": [],
   "source": [
    "duration = ((df_Presidents_Duration['TermoffficeEndDate'] - df_Presidents_Duration['TermofOfficeStartDate'])/np.timedelta64(1,'Y'))\n",
    "\n",
    "duration_years = duration.astype(str)\n",
    "\n",
    "df_Presidents_Duration['Years'] = duration_years.str.split('.',expand = True)[0]\n",
    "\n",
    "df_Presidents_Duration"
   ]
  },
  {
   "cell_type": "markdown",
   "metadata": {},
   "source": [
    "### Extracting month value from years value obtained above using arithmetic computation: "
   ]
  },
  {
   "cell_type": "code",
   "execution_count": null,
   "metadata": {},
   "outputs": [],
   "source": [
    "month = duration_years.str.split('.',expand = True)[1]\n",
    "\n",
    "month2 = \"0.\" +month\n",
    "\n",
    "month3 = month2.astype(float)\n",
    "\n",
    "month_val = month3*12\n",
    "\n",
    "month_val\n",
    "\n",
    "month_val = month_val.astype(str)\n",
    "\n",
    "upd_month_val = month_val.str.split('.',expand = True)\n",
    "\n",
    "df_Presidents_Duration['Months'] = upd_month_val[0]\n",
    "\n",
    "df_Presidents_Duration"
   ]
  },
  {
   "cell_type": "markdown",
   "metadata": {},
   "source": [
    "### Extracting days from the month value remainder. Also incrementing day by 1 if remainder of days is greater than 0.2 "
   ]
  },
  {
   "cell_type": "code",
   "execution_count": null,
   "metadata": {},
   "outputs": [],
   "source": [
    "upd_month_val[1]\n",
    "\n",
    "days = upd_month_val[1]\n",
    "\n",
    "days_new = \"0.\" + days\n",
    "\n",
    "days_update = days_new.astype(float)\n",
    "\n",
    "days_final = days_update *30\n",
    "\n",
    "days_final\n",
    "\n",
    "days_strval = days_final.astype(str)\n",
    "\n",
    "days_splitted = days_strval.str.split('.',expand = True)\n",
    "\n",
    "day_1 = days_splitted[0]\n",
    "day_1 = day_1.astype(float)\n",
    "day_2 = days_splitted[1]\n",
    "\n",
    "day_3 = \"0.\" +day_2\n",
    "\n",
    "day_3 = day_3.astype(float)\n",
    "\n",
    "for i in range(1,46):\n",
    "    if day_3[i] >= 0.2:\n",
    "        day_1[i] = day_1[i] + 1\n",
    "    else:\n",
    "        day_1[i] = day_1[i]\n",
    "        \n",
    "day_1\n",
    "\n",
    "df_Presidents_Duration['Days'] = day_1\n",
    "\n",
    "df_Presidents_Duration\n"
   ]
  },
  {
   "cell_type": "markdown",
   "metadata": {},
   "source": [
    "### Converting Years and months columns to Float type :"
   ]
  },
  {
   "cell_type": "code",
   "execution_count": null,
   "metadata": {},
   "outputs": [],
   "source": [
    "df_Presidents_Duration['Years'] = df_Presidents_Duration['Years'].astype(float)\n",
    "\n",
    "df_Presidents_Duration['Months'] = df_Presidents_Duration['Months'].astype(float)\n",
    "\n",
    "df_Presidents_Duration"
   ]
  },
  {
   "cell_type": "markdown",
   "metadata": {},
   "source": [
    "### Creating  a table President_Duration and inserting above data into table \"President_Duration\" "
   ]
  },
  {
   "cell_type": "markdown",
   "metadata": {},
   "source": [
    "create table President_Duration(\n",
    "    ->      PresidentName varchar(200) ,\n",
    "    ->      VicePresident varchar(100),\n",
    "    ->      Party varchar(100),\n",
    "    ->      TOO_StrtDate varchar(100) ,\n",
    "    ->      TOO_EndDate varchar(50) ,\n",
    "    ->      Years varchar(20),\n",
    "    ->      Months varchar(80),\n",
    "    ->      Days varchar(50)\n",
    "    ->       );\n",
    "Query OK, 0 rows affected (0.172 sec)\n"
   ]
  },
  {
   "cell_type": "code",
   "execution_count": null,
   "metadata": {},
   "outputs": [],
   "source": [
    "config = {\n",
    "    'user' : 'President_User',\n",
    "    'password' : 'President_Python',\n",
    "    'host' : '127.0.0.1',\n",
    "    'database' : 'PresidentDB'\n",
    "}\n",
    "\n",
    "import DBcm\n",
    "\n",
    "with DBcm.UseDatabase(config) as Cursor:\n",
    "    SQL = \"\"\"INSERT INTO President_Duration(PresidentName,VicePresident,Party,TOO_StrtDate,TOO_EndDate,Years,Months,Days) VALUES (%s, %s, %s, %s, %s, %s, %s, %s)\"\"\"\n",
    "    i=0\n",
    "    while i < len(df_Presidents_Duration):\n",
    "        data = [row for row in df_Presidents_Duration.iloc[i]]\n",
    "        data1 = [tuple(data)]\n",
    "        Cursor.executemany(SQL,data1)\n",
    "        i+=1"
   ]
  },
  {
   "cell_type": "markdown",
   "metadata": {},
   "source": [
    "### Creating temporary table to find distinct presidents and then executing a query to find which party has ruled for the longest duration "
   ]
  },
  {
   "cell_type": "markdown",
   "metadata": {},
   "source": [
    "Query:\n",
    "\n",
    "create temporary table President_Temp as ( select distinct PresidentName, Party , TOO_StrtDate, TOO_EndDate,Years,Months,Days from President_Duration);\n",
    "\n",
    "select Party, sum(Years) as Years, sum( Months ) as Months, sum(Days) as Days from President_Temp group by Party order by sum(Years) desc;\n",
    "\n",
    "+------------------------+-------+--------+------+\n",
    "| Party                  | Years | Months | Days |\n",
    "+------------------------+-------+--------+------+\n",
    "| Fianna Fáil            |    53 |     93 |  136 |\n",
    "| Fine Gael              |    23 |     39 |  129 |\n",
    "| Cumann na nGaedheal    |     9 |      3 |    3 |\n",
    "| Sinn Féin(Pro-Treaty)  |     9 |      3 |    3 |\n",
    "+------------------------+-------+--------+------+\n",
    "4 rows in set (0.000 sec)\n",
    "\n",
    "\n",
    "select Party, sum(Years) as Years, sum( Months ) as Months, sum(Days) as Days from President_Temp group by Party order by sum(Years) desc limit 1;\n",
    "\n",
    "+--------------+-------+--------+------+\n",
    "| Party        | Years | Months | Days |\n",
    "+--------------+-------+--------+------+\n",
    "| Fianna Fáil  |    53 |     93 |  136 |\n",
    "+--------------+-------+--------+------+\n",
    "1 row in set (0.000 sec)\n"
   ]
  },
  {
   "cell_type": "markdown",
   "metadata": {},
   "source": [
    "### 3 e ]  To find which politician held the office of President for longest amount uninterrupted:"
   ]
  },
  {
   "cell_type": "markdown",
   "metadata": {},
   "source": [
    "### Using logic to compare (Condition for uninterrupted rule) if the current and next president from the column list is equal and also term Office end date for current and startdate for next is equal then perform the summation of years for that current president."
   ]
  },
  {
   "cell_type": "code",
   "execution_count": null,
   "metadata": {},
   "outputs": [],
   "source": [
    "for i in range(0,len(df_Presidents_Duration)-1):\n",
    "    if df_Presidents_Duration.iloc[i]['President_Name'] == df_Presidents_Duration.iloc[i+1]['President_Name'] and df_Presidents_Duration.iloc[i]['TermoffficeEndDate'] ==  df_Presidents_Duration.iloc[i+1]['TermofOfficeStartDate']:\n",
    "        \n",
    "        var_PresidentName = (df_Presidents_Duration.iloc[i]['President_Name'])\n",
    "        var_years = (int(df_Presidents_Duration.iloc[i]['Years'])+ int(df_Presidents_Duration.iloc[i+1]['Years']))\n",
    "        var_months = (int(df_Presidents_Duration.iloc[i]['Months'])+ int(df_Presidents_Duration.iloc[i+1]['Months']))\n",
    "        var_days = (int(df_Presidents_Duration.iloc[i]['Days'])+ int(df_Presidents_Duration.iloc[i+1]['Days']))\n",
    "        \n",
    "        print(var_PresidentName,'-' ,var_years,\"Years\", \" \" , var_months , \"Months\" , \" \", var_days  ,\" \" \"Days \")\n",
    "        \n",
    "        "
   ]
  },
  {
   "cell_type": "markdown",
   "metadata": {},
   "source": [
    "###  3 f ] To find which politician held the office of president for shortest time:"
   ]
  },
  {
   "cell_type": "markdown",
   "metadata": {},
   "source": [
    "### Intially creating a temporary table of distinct presidents and then extracting duration of rule for each president to get shortest duration in years, months and days."
   ]
  },
  {
   "cell_type": "markdown",
   "metadata": {},
   "source": [
    "Query:\n",
    "\n",
    "create temporary table President_Temp as ( select distinct PresidentName, Party , TOO_StrtDate, TOO_EndDate,Years,Months,Days from President_Duration);\n",
    "\n",
    "select PresidentName,sum(Years) as Years,sum(Months) as Months,sum(Days) as Days from President_Temp group by PresidentName order by sum(Years),sum(Months);\n",
    "\n",
    "\n",
    "+-------------------+-------+--------+------+\n",
    "| PresidentName     | Years | Months | Days |\n",
    "+-------------------+-------+--------+------+\n",
    "| Leo Varadkar      |     2 |      5 |   14 |\n",
    "| John Bruton       |     2 |      6 |   11 |\n",
    "| Brian Cowen       |     2 |     10 |    1 |\n",
    "| Albert Reynolds   |     2 |     10 |    3 |\n",
    "| Liam Cosgrave     |     4 |      3 |   22 |\n",
    "| Garret FitzGerald |     4 |     10 |   34 |\n",
    "| John A. Costello  |     5 |     12 |   42 |\n",
    "| Charles Haughey   |     5 |     26 |   28 |\n",
    "| Enda Kenny        |     6 |      3 |    6 |\n",
    "| Seán Lemass       |     7 |      4 |   19 |\n",
    "| Jack Lynch        |     8 |      9 |   10 |\n",
    "| Bertie Ahern      |    10 |     10 |   11 |\n",
    "| W. T. Cosgrave    |    18 |      6 |    6 |\n",
    "| Éamon de Valera   |    19 |     24 |   64 |\n",
    "+-------------------+-------+--------+------+\n",
    "14 rows in set (0.001 sec)\n",
    "\n",
    "select PresidentName,sum(Years) as Years,sum(Months) as Months,sum(Days) as Days from President_Temp group by PresidentName order by sum(Years),sum(Months) limit 1;\n",
    "\n",
    "+---------------+-------+--------+------+\n",
    "| PresidentName | Years | Months | Days |\n",
    "+---------------+-------+--------+------+\n",
    "| Leo Varadkar  |     2 |      5 |   14 |\n",
    "+---------------+-------+--------+------+\n",
    "1 row in set (0.001 sec)\n",
    "\n"
   ]
  },
  {
   "cell_type": "markdown",
   "metadata": {},
   "source": [
    "### 3 g ] To find political party which has most number of dails :"
   ]
  },
  {
   "cell_type": "markdown",
   "metadata": {},
   "source": [
    "Query:\n",
    "\n",
    "select Party, count(Dale) from PresidentsInfo group by Party order by count(Dale) desc;\n",
    "\n",
    "+------------------------+-------------+\n",
    "| Party                  | count(Dale) |\n",
    "+------------------------+-------------+\n",
    "| Fianna Fáil            |          28 |\n",
    "| Fine Gael              |          12 |\n",
    "| Cumann na nGaedheal    |           4 |\n",
    "| Sinn Féin(Pro-Treaty)  |           1 |\n",
    "+------------------------+-------------+\n",
    "4 rows in set (0.001 sec)\n",
    "\n",
    "select Party, count(Dale) from PresidentsInfo group by Party order by count(Dale) desc limit 1;\n",
    "+--------------+-------------+\n",
    "| Party        | count(Dale) |\n",
    "+--------------+-------------+\n",
    "| Fianna Fáil  |          28 |\n",
    "+--------------+-------------+\n",
    "1 row in set (0.002 sec)\n",
    "\n"
   ]
  },
  {
   "cell_type": "markdown",
   "metadata": {},
   "source": [
    "### 3 h ] To find out which politician has office of President for largetst number of dails:"
   ]
  },
  {
   "cell_type": "markdown",
   "metadata": {},
   "source": [
    "Query:\n",
    "\n",
    "select PresidentName, count(Dale) from PresidentsInfo group by PresidentName order by count(Dale) desc limit 1;\n",
    "\n",
    "+------------------+-------------+\n",
    "| PresidentName    | count(Dale) |\n",
    "+------------------+-------------+\n",
    "| Éamon de Valera  |           9 |\n",
    "+------------------+-------------+\n",
    "1 row in set (0.001 sec)\n"
   ]
  },
  {
   "cell_type": "markdown",
   "metadata": {},
   "source": [
    "### 3 i ] To find age of Presidents at the time they assumed office: "
   ]
  },
  {
   "cell_type": "markdown",
   "metadata": {},
   "source": [
    "### To find age we get the difference of office start date and age columns using substr function"
   ]
  },
  {
   "cell_type": "markdown",
   "metadata": {},
   "source": [
    "Query:\n",
    "    \n",
    "select distinct PresidentName , case when Age like 'b.%' then substr(TOO_StrtDate,1,4) - substr(Age,4,4) else substr(TOO_StrtDate,1,4) - substr(Age,1,4) end as Age_StartOfice from PresidentsInfo group by PresidentName;\n",
    "\n",
    "+-------------------+----------------+\n",
    "| PresidentName     | Age_StartOfice |\n",
    "+-------------------+----------------+\n",
    "| Albert Reynolds   |             60 |\n",
    "| Bertie Ahern      |             46 |\n",
    "| Brian Cowen       |             48 |\n",
    "| Charles Haughey   |             54 |\n",
    "| Éamon de Valera   |             50 |\n",
    "| Enda Kenny        |             60 |\n",
    "| Garret FitzGerald |             55 |\n",
    "| Jack Lynch        |             49 |\n",
    "| John A. Costello  |             57 |\n",
    "| John Bruton       |             47 |\n",
    "| Leo Varadkar      |             38 |\n",
    "| Liam Cosgrave     |             53 |\n",
    "| Seán Lemass       |             60 |\n",
    "| W. T. Cosgrave    |             42 |\n",
    "+-------------------+----------------+\n",
    "14 rows in set (0.001 sec)\n"
   ]
  },
  {
   "cell_type": "markdown",
   "metadata": {},
   "source": [
    "### 3 j ] To find age of Presidents on the last day of their service:"
   ]
  },
  {
   "cell_type": "markdown",
   "metadata": {},
   "source": [
    "Query:\n",
    "\n",
    "select distinct PresidentName , case when Age like 'b.%' then substr(max(TOO_EndDate),1,4) - substr(Age,4,4) else substr(max(TOO_EndDate),1,4) - substr(Age,1,4) end as Age_on_EndofOffice from PresidentsInfo group by PresidentName order by Age_on_EndofOffice desc;\n",
    "\n",
    "+-------------------+--------------------+\n",
    "| PresidentName     | Age_on_EndofOffice |\n",
    "+-------------------+--------------------+\n",
    "| Éamon de Valera   |                 77 |\n",
    "| Seán Lemass       |                 67 |\n",
    "| Charles Haughey   |                 67 |\n",
    "| John A. Costello  |                 66 |\n",
    "| Enda Kenny        |                 66 |\n",
    "| Jack Lynch        |                 62 |\n",
    "| Albert Reynolds   |                 62 |\n",
    "| Garret FitzGerald |                 61 |\n",
    "| Liam Cosgrave     |                 57 |\n",
    "| Bertie Ahern      |                 57 |\n",
    "| W. T. Cosgrave    |                 52 |\n",
    "| Brian Cowen       |                 51 |\n",
    "| John Bruton       |                 50 |\n",
    "| Leo Varadkar      |                 40 |\n",
    "+-------------------+--------------------+\n",
    "14 rows in set (0.001 sec)\n"
   ]
  },
  {
   "cell_type": "markdown",
   "metadata": {},
   "source": [
    "### 3 k ] Statistics showing which Irish Political party is most successful :"
   ]
  },
  {
   "cell_type": "markdown",
   "metadata": {},
   "source": [
    "Query :\n",
    "\n",
    "select count(distinct PresidentName), Party from PresidentsInfo group by Party;\n",
    "+-------------------------------+------------------------+\n",
    "| count(distinct PresidentName) | Party                  |\n",
    "+-------------------------------+------------------------+\n",
    "|                             1 | Cumann na nGaedheal    |\n",
    "|                             7 | Fianna Fáil            |\n",
    "|                             6 | Fine Gael              |\n",
    "|                             1 | Sinn Féin(Pro-Treaty)  |\n",
    "+-------------------------------+------------------------+\n",
    "4 rows in set (0.000 sec)\n",
    "\n",
    "select count(distinct PresidentName) from PresidentsInfo;\n",
    "+-------------------------------+\n",
    "| count(distinct PresidentName) |\n",
    "+-------------------------------+\n",
    "|                            14 |\n",
    "+-------------------------------+\n",
    "1 row in set (0.000 sec)\n"
   ]
  },
  {
   "cell_type": "markdown",
   "metadata": {},
   "source": [
    "As per the above query results it is clear that Fianna Fail has 7 presidents elected out of 14 presidents till date, ie 50% "
   ]
  },
  {
   "cell_type": "markdown",
   "metadata": {},
   "source": [
    "Query:\n",
    "\n",
    "create temporary table President_Temp as ( select distinct PresidentName, Party , TOO_StrtDate, TOO_EndDate,Years,Months,Days from President_Duration);\n",
    "\n",
    "select Party, sum(Years) as Years, sum( Months ) as Months, sum(Days) as Days from President_Temp group by Party order by sum(Years) desc;\n",
    "\n",
    "+------------------------+-------+--------+------+\n",
    "| Party                  | Years | Months | Days |\n",
    "+------------------------+-------+--------+------+\n",
    "| Fianna Fáil            |    53 |     93 |  136 |\n",
    "| Fine Gael              |    23 |     39 |  129 |\n",
    "| Cumann na nGaedheal    |     9 |      3 |    3 |\n",
    "| Sinn Féin(Pro-Treaty)  |     9 |      3 |    3 |\n",
    "+------------------------+-------+--------+------+\n",
    "4 rows in set (0.000 sec)"
   ]
  },
  {
   "cell_type": "markdown",
   "metadata": {},
   "source": [
    "Also we can infer from above statistics that Fianna Fail has ruled Ireland for 53 years and more from period 1922 - 2019 ( 97 years) so out of 97 years the party has won for 53 years which is 54% of the total elections. "
   ]
  },
  {
   "cell_type": "markdown",
   "metadata": {},
   "source": [
    "So from all above statistics we can conclude that Fianna Fail is most successful political party in Ireland."
   ]
  }
 ],
 "metadata": {
  "kernelspec": {
   "display_name": "Python 3",
   "language": "python",
   "name": "python3"
  },
  "language_info": {
   "codemirror_mode": {
    "name": "ipython",
    "version": 3
   },
   "file_extension": ".py",
   "mimetype": "text/x-python",
   "name": "python",
   "nbconvert_exporter": "python",
   "pygments_lexer": "ipython3",
   "version": "3.7.3"
  }
 },
 "nbformat": 4,
 "nbformat_minor": 2
}
